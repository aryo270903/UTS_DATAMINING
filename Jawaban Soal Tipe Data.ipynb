{
 "cells": [
  {
   "cell_type": "code",
   "execution_count": null,
   "id": "df500582-3f44-4c7d-8877-86cbaaa04225",
   "metadata": {},
   "outputs": [],
   "source": [
    "Soal Tipe Data"
   ]
  },
  {
   "cell_type": "code",
   "execution_count": 9,
   "id": "d1ada589-a375-46a2-90c9-c4482610de30",
   "metadata": {},
   "outputs": [],
   "source": [
    "# data\n",
    "company_name_list = [{'name': 'Company 1'},\n",
    "          {'name': 'Company 2'},\n",
    "          {'name': 'Company 3'}]\n",
    "\n",
    "employee_name_list = [{'name': 'John Doe'},\n",
    "          {'name': 'Tom Smith'},\n",
    "          {'name': 'Andrew Sebastian'}]\n",
    "\n",
    "company_detail_list = {\n",
    "      'Company 1': {\n",
    "          'name': 'Company 1',\n",
    "          'domain': 'Retail',\n",
    "          'clients': [\n",
    "              {\n",
    "                  'name': 'acme.inc',\n",
    "                  'country': 'united states'\n",
    "              },\n",
    "              {\n",
    "                  'name': 'Wayne.co',\n",
    "                  'country': 'united states'\n",
    "              }\n",
    "          ]\n",
    "      },\n",
    "      'Company 2': {\n",
    "          'name': 'Company 2',\n",
    "          'domain': 'Construction',\n",
    "          'clients': [\n",
    "              {\n",
    "                  'name': 'Tesla',\n",
    "                  'country': 'united states'\n",
    "              },\n",
    "              {\n",
    "                  'name': 'Japan Airlines',\n",
    "                  'country': 'japan'\n",
    "              },\n",
    "              {\n",
    "                  'name': 'Indofood',\n",
    "                  'country': 'indonesia'\n",
    "              }\n",
    "          ]\n",
    "      },\n",
    "      'Company 3': {\n",
    "          'name': 'Company 3',\n",
    "          'domain': 'Healthcare',\n",
    "          'clients': [\n",
    "              {\n",
    "                  'name': 'Petronas',\n",
    "                  'country': 'malaysia'\n",
    "              },\n",
    "              {\n",
    "                  'name': 'VW Group',\n",
    "                  'country': 'germany'\n",
    "              },\n",
    "              {\n",
    "                  'name': 'IBM',\n",
    "                  'country': 'united states'\n",
    "              },\n",
    "              {\n",
    "                  'name': 'Mitsubishi',\n",
    "                  'country': 'japan'\n",
    "              }\n",
    "          ]\n",
    "      }\n",
    "  }\n",
    "\n",
    "employee_detail_list = {\n",
    "      'John Doe': {\n",
    "          'name': 'EMP-0001',\n",
    "          'first_name': 'John',\n",
    "          'last_name': 'Doe',\n",
    "          'full_name': 'John Doe',\n",
    "          'company': 'Company 1'\n",
    "      },\n",
    "      'Tom Smith': {\n",
    "          'name': 'EMP-0002',\n",
    "          'first_name': 'Tom',\n",
    "          'last_name': 'Smith',\n",
    "          'full_name': 'Tom Smith',\n",
    "          'company': 'Company 2'\n",
    "      },\n",
    "      'Andrew Sebastian': {\n",
    "          'name': 'EMP-0003',\n",
    "          'first_name': 'Andrew',\n",
    "          'last_name': 'Sebastian',\n",
    "          'full_name': 'Andrew Sebastian',\n",
    "          'company': 'Company 2'\n",
    "      },\n",
    "  }"
   ]
  },
  {
   "cell_type": "code",
   "execution_count": null,
   "id": "ed1ebfb0-3d8a-40a3-b0e5-f6b06c1ee65b",
   "metadata": {},
   "outputs": [],
   "source": [
    "1"
   ]
  },
  {
   "cell_type": "code",
   "execution_count": 16,
   "id": "a6072d5f-e183-4fed-aca8-ae392b7c92da",
   "metadata": {},
   "outputs": [
    {
     "name": "stdout",
     "output_type": "stream",
     "text": [
      "[{'name': 'Company 1', 'domain': 'Retail'}, {'name': 'Company 3', 'domain': 'Healthcare'}, {'name': 'Company 2', 'domain': 'Construction'}]\n"
     ]
    }
   ],
   "source": [
    "def sort_company():\n",
    "    companies = list(company_detail_list.values())\n",
    "    sorted_companies = sorted(companies, key=lambda x: x['domain'], reverse=True)\n",
    "    result = [{'name': company['name'], 'domain': company['domain']} for company in sorted_companies]\n",
    "    return result\n",
    "print(sort_company())\n"
   ]
  },
  {
   "cell_type": "code",
   "execution_count": null,
   "id": "613c57b8-cd1e-4ca3-a76e-6e6ae3a2e3bb",
   "metadata": {},
   "outputs": [],
   "source": [
    "2"
   ]
  },
  {
   "cell_type": "code",
   "execution_count": 12,
   "id": "963fe590-4439-452d-8d00-5ceafb4c92f1",
   "metadata": {},
   "outputs": [
    {
     "name": "stdout",
     "output_type": "stream",
     "text": [
      "Company 1: Retail, relation: 2 clients\n",
      "Company 2: Construction, relation: 3 clients\n",
      "Company 3: Healthcare, relation: 4 clients\n"
     ]
    }
   ],
   "source": [
    "def print_domains():\n",
    "    for company_info in company_detail_list.values():\n",
    "        company_name = company_info['name']\n",
    "        domain = company_info['domain']\n",
    "        num_clients = len(company_info['clients'])\n",
    "        print(f\"{company_name}: {domain}, relation: {num_clients} clients\")\n",
    "print_domains()"
   ]
  },
  {
   "cell_type": "code",
   "execution_count": null,
   "id": "458b366f-caba-48a0-be2a-cf8100212669",
   "metadata": {},
   "outputs": [],
   "source": [
    "3"
   ]
  },
  {
   "cell_type": "code",
   "execution_count": 17,
   "id": "464df2dc-7fd4-4806-8241-73cbaed108ff",
   "metadata": {},
   "outputs": [
    {
     "name": "stdout",
     "output_type": "stream",
     "text": [
      "[{'full_name': 'John Doe', 'company': 'Company 1', 'domain': 'Retail'}, {'full_name': 'Tom Smith', 'company': 'Company 2', 'domain': 'Construction'}, {'full_name': 'Andrew Sebastian', 'company': 'Company 2', 'domain': 'Construction'}]\n"
     ]
    }
   ],
   "source": [
    "def get_employees():\n",
    "    result = []\n",
    "    for employee_info in employee_detail_list.values():\n",
    "        full_name = employee_info['full_name']\n",
    "        company_name = employee_info['company']\n",
    "        domain = company_detail_list[company_name]['domain']\n",
    "        result.append({'full_name': full_name, 'company': company_name, 'domain': domain})\n",
    "    return result\n",
    "print(get_employees())\n"
   ]
  },
  {
   "cell_type": "code",
   "execution_count": null,
   "id": "ff01385d-8616-40ce-a10c-3dba8791f5a6",
   "metadata": {},
   "outputs": [],
   "source": [
    "4"
   ]
  },
  {
   "cell_type": "code",
   "execution_count": 18,
   "id": "3b6bf1f0-2e28-4699-96ad-d8504d08672f",
   "metadata": {},
   "outputs": [
    {
     "name": "stdout",
     "output_type": "stream",
     "text": [
      "[{'company': 'Company 1', 'employees': ['John Doe']}, {'company': 'Company 2', 'employees': ['Tom Smith', 'Andrew Sebastian']}, {'company': 'Company 3', 'employees': []}]\n"
     ]
    }
   ],
   "source": [
    "def get_employees_by_company():\n",
    "    result = []\n",
    "    for company_info in company_name_list:\n",
    "        company_name = company_info['name']\n",
    "        employees_in_company = [employee_info['full_name'] for employee_info in employee_detail_list.values() if employee_info['company'] == company_name]\n",
    "        result.append({'company': company_name, 'employees': employees_in_company})\n",
    "    return result\n",
    "\n",
    "# Test the function\n",
    "print(get_employees_by_company())\n"
   ]
  }
 ],
 "metadata": {
  "kernelspec": {
   "display_name": "Python 3 (ipykernel)",
   "language": "python",
   "name": "python3"
  },
  "language_info": {
   "codemirror_mode": {
    "name": "ipython",
    "version": 3
   },
   "file_extension": ".py",
   "mimetype": "text/x-python",
   "name": "python",
   "nbconvert_exporter": "python",
   "pygments_lexer": "ipython3",
   "version": "3.11.7"
  }
 },
 "nbformat": 4,
 "nbformat_minor": 5
}
