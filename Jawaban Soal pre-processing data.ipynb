{
 "cells": [
  {
   "cell_type": "code",
   "execution_count": 30,
   "id": "13622111-137a-4532-977d-d209536bf25b",
   "metadata": {},
   "outputs": [],
   "source": [
    "import pandas as pd\n",
    "import numpy as np\n",
    "\n",
    "from sklearn.preprocessing import LabelEncoder, OneHotEncoder, StandardScaler\n",
    "from sklearn.impute import SimpleImputer\n",
    "from sklearn.compose import ColumnTransformer \n",
    "from sklearn.preprocessing import StandardScaler\n",
    "from sklearn.pipeline import Pipeline"
   ]
  },
  {
   "cell_type": "code",
   "execution_count": 32,
   "id": "7f0708a0-1453-4f9f-9f9f-2a76c6599f92",
   "metadata": {},
   "outputs": [],
   "source": [
    "data_startup = pd.read_csv('50_Startups.csv')"
   ]
  },
  {
   "cell_type": "code",
   "execution_count": 33,
   "id": "c0f0d1f7-8394-4151-b026-7abeab3b81dd",
   "metadata": {},
   "outputs": [
    {
     "data": {
      "text/html": [
       "<div>\n",
       "<style scoped>\n",
       "    .dataframe tbody tr th:only-of-type {\n",
       "        vertical-align: middle;\n",
       "    }\n",
       "\n",
       "    .dataframe tbody tr th {\n",
       "        vertical-align: top;\n",
       "    }\n",
       "\n",
       "    .dataframe thead th {\n",
       "        text-align: right;\n",
       "    }\n",
       "</style>\n",
       "<table border=\"1\" class=\"dataframe\">\n",
       "  <thead>\n",
       "    <tr style=\"text-align: right;\">\n",
       "      <th></th>\n",
       "      <th>R&amp;D Spend</th>\n",
       "      <th>Administration</th>\n",
       "      <th>Marketing Spend</th>\n",
       "      <th>State</th>\n",
       "      <th>Profit</th>\n",
       "    </tr>\n",
       "  </thead>\n",
       "  <tbody>\n",
       "    <tr>\n",
       "      <th>43</th>\n",
       "      <td>15505.73</td>\n",
       "      <td>127382.30</td>\n",
       "      <td>35534.17</td>\n",
       "      <td>New York</td>\n",
       "      <td>69758.98</td>\n",
       "    </tr>\n",
       "    <tr>\n",
       "      <th>29</th>\n",
       "      <td>65605.48</td>\n",
       "      <td>153032.06</td>\n",
       "      <td>107138.38</td>\n",
       "      <td>New York</td>\n",
       "      <td>101004.64</td>\n",
       "    </tr>\n",
       "    <tr>\n",
       "      <th>47</th>\n",
       "      <td>NaN</td>\n",
       "      <td>135426.92</td>\n",
       "      <td>NaN</td>\n",
       "      <td>California</td>\n",
       "      <td>42559.73</td>\n",
       "    </tr>\n",
       "    <tr>\n",
       "      <th>7</th>\n",
       "      <td>130298.13</td>\n",
       "      <td>NaN</td>\n",
       "      <td>323876.68</td>\n",
       "      <td>Florida</td>\n",
       "      <td>155752.60</td>\n",
       "    </tr>\n",
       "    <tr>\n",
       "      <th>36</th>\n",
       "      <td>28663.76</td>\n",
       "      <td>127056.21</td>\n",
       "      <td>201126.82</td>\n",
       "      <td>Florida</td>\n",
       "      <td>90708.19</td>\n",
       "    </tr>\n",
       "    <tr>\n",
       "      <th>40</th>\n",
       "      <td>28754.33</td>\n",
       "      <td>118546.05</td>\n",
       "      <td>172795.67</td>\n",
       "      <td>California</td>\n",
       "      <td>78239.91</td>\n",
       "    </tr>\n",
       "    <tr>\n",
       "      <th>26</th>\n",
       "      <td>75328.87</td>\n",
       "      <td>144135.98</td>\n",
       "      <td>134050.07</td>\n",
       "      <td>Florida</td>\n",
       "      <td>105733.54</td>\n",
       "    </tr>\n",
       "  </tbody>\n",
       "</table>\n",
       "</div>"
      ],
      "text/plain": [
       "    R&D Spend  Administration  Marketing Spend       State     Profit\n",
       "43   15505.73       127382.30         35534.17    New York   69758.98\n",
       "29   65605.48       153032.06        107138.38    New York  101004.64\n",
       "47        NaN       135426.92              NaN  California   42559.73\n",
       "7   130298.13             NaN        323876.68     Florida  155752.60\n",
       "36   28663.76       127056.21        201126.82     Florida   90708.19\n",
       "40   28754.33       118546.05        172795.67  California   78239.91\n",
       "26   75328.87       144135.98        134050.07     Florida  105733.54"
      ]
     },
     "execution_count": 33,
     "metadata": {},
     "output_type": "execute_result"
    }
   ],
   "source": [
    "data_startup.sample(7)"
   ]
  },
  {
   "cell_type": "code",
   "execution_count": null,
   "id": "dfe73c2d-db22-492a-8b63-5d5f50fdbe9b",
   "metadata": {},
   "outputs": [],
   "source": [
    "# 1.Lakukan analisa mengenai field mana saja yang memiliki data kosong(Nan) lalu Isi data yang kosong tersebut menggunakan nilai mean"
   ]
  },
  {
   "cell_type": "code",
   "execution_count": 34,
   "id": "92587cc4-2031-48c8-a199-32b6392d2594",
   "metadata": {},
   "outputs": [
    {
     "name": "stdout",
     "output_type": "stream",
     "text": [
      "   R&D Spend  Administration  Marketing Spend       State     Profit\n",
      "0         45     1000.230000        124153.04    New York   64926.08\n",
      "1         10    70662.663333        110594.11     Florida  146121.95\n",
      "2         20    76253.860000        113867.30  California  118474.03\n",
      "3         32    63408.860000        129219.61  California   97427.84\n",
      "4         40    28754.330000        118546.05  California   78239.91\n",
      "5         14   119943.240000        156547.42     Florida  132602.65\n",
      "6          6   134615.460000        147198.87  California  156122.51\n"
     ]
    }
   ],
   "source": [
    "df = pd.DataFrame(data)\n",
    "cols_with_missing = df.columns[df.isnull().any()].tolist()\n",
    "for col in cols_with_missing:\n",
    "    df[col] = df[col].fillna(df[col].mean())\n",
    "print(df)"
   ]
  },
  {
   "cell_type": "code",
   "execution_count": null,
   "id": "c425b4bf-d4d1-41fc-965a-96697daff802",
   "metadata": {},
   "outputs": [],
   "source": [
    "#2.lakukan oneHotEncoder ke field state"
   ]
  },
  {
   "cell_type": "code",
   "execution_count": 35,
   "id": "9c803a66-f448-4c73-97c1-d78fc6e95e08",
   "metadata": {},
   "outputs": [
    {
     "name": "stdout",
     "output_type": "stream",
     "text": [
      "   R&D Spend  Administration  Marketing Spend     Profit  State_California  \\\n",
      "0         45         1000.23        124153.04   64926.08             False   \n",
      "1         10             NaN        110594.11  146121.95             False   \n",
      "2         20        76253.86        113867.30  118474.03              True   \n",
      "3         32        63408.86        129219.61   97427.84              True   \n",
      "4         40        28754.33        118546.05   78239.91              True   \n",
      "5         14       119943.24        156547.42  132602.65             False   \n",
      "6          6       134615.46        147198.87  156122.51              True   \n",
      "\n",
      "   State_Florida  State_New York  \n",
      "0          False            True  \n",
      "1           True           False  \n",
      "2          False           False  \n",
      "3          False           False  \n",
      "4          False           False  \n",
      "5           True           False  \n",
      "6          False           False  \n"
     ]
    }
   ],
   "source": [
    "df = pd.DataFrame(data)\n",
    "df = pd.get_dummies(df, columns=['State'])\n",
    "print(df)"
   ]
  },
  {
   "cell_type": "code",
   "execution_count": null,
   "id": "26b61e94-b5a3-47c2-8511-c9be3e9e73c1",
   "metadata": {},
   "outputs": [],
   "source": [
    "#3buat field baru yaitu Tax. dimana Tax = (profit + Marketing Spend + administration) * 5%"
   ]
  },
  {
   "cell_type": "code",
   "execution_count": 36,
   "id": "a288f3e5-15a1-47d8-b6fe-f202534154e6",
   "metadata": {},
   "outputs": [
    {
     "name": "stdout",
     "output_type": "stream",
     "text": [
      "   R&D Spend  Administration  Marketing Spend       State     Profit  \\\n",
      "0         45     1000.230000        124153.04    New York   64926.08   \n",
      "1         10    70662.663333        110594.11     Florida  146121.95   \n",
      "2         20    76253.860000        113867.30  California  118474.03   \n",
      "3         32    63408.860000        129219.61  California   97427.84   \n",
      "4         40    28754.330000        118546.05  California   78239.91   \n",
      "5         14   119943.240000        156547.42     Florida  132602.65   \n",
      "6          6   134615.460000        147198.87  California  156122.51   \n",
      "\n",
      "            Tax  \n",
      "0   9503.967500  \n",
      "1  16368.936167  \n",
      "2  15429.759500  \n",
      "3  14502.815500  \n",
      "4  11277.014500  \n",
      "5  20454.665500  \n",
      "6  21896.842000  \n"
     ]
    }
   ],
   "source": [
    "df = pd.DataFrame(data)\n",
    "df['Administration'].fillna(df['Administration'].mean(), inplace=True)\n",
    "df['Tax'] = (df['Profit'] + df['Marketing Spend'] + df['Administration']) * 0.05\n",
    "print(df)"
   ]
  },
  {
   "cell_type": "code",
   "execution_count": null,
   "id": "4b0128e6-3c11-418f-97e8-8a9c3d5d70bf",
   "metadata": {},
   "outputs": [],
   "source": [
    "#4Jalankan standardScaler field-field tersebut"
   ]
  },
  {
   "cell_type": "code",
   "execution_count": 37,
   "id": "b7bed7a9-e8cc-4f61-9ac9-b83fe7825c85",
   "metadata": {},
   "outputs": [
    {
     "name": "stdout",
     "output_type": "stream",
     "text": [
      "   R&D Spend  Administration  Marketing Spend  State     Profit\n",
      "0   1.496707       -1.603505        -0.277473  False   64926.08\n",
      "1  -0.980950        0.000000        -1.125502   True  146121.95\n",
      "2  -0.273048        0.128699        -0.920784  False  118474.03\n",
      "3   0.576434       -0.166970         0.039410  False   97427.84\n",
      "4   1.142756       -0.964655        -0.628156  False   78239.91\n",
      "5  -0.697789        1.134351         1.748600   True  132602.65\n",
      "6  -1.264110        1.472079         1.163905  False  156122.51\n"
     ]
    }
   ],
   "source": [
    "df = pd.DataFrame(data)\n",
    "\n",
    "# Menangani nilai yang hilang\n",
    "imputer = SimpleImputer(strategy='mean')\n",
    "df[['Administration', 'Marketing Spend']] = imputer.fit_transform(df[['Administration', 'Marketing Spend']])\n",
    "\n",
    "# One-hot encoding untuk kolom \"State\"\n",
    "df_encoded = pd.get_dummies(df, columns=['State'], drop_first=True)\n",
    "\n",
    "# Pipeline untuk melakukan standarisasi dan preprocessing kolom numerik\n",
    "numeric_features = ['R&D Spend', 'Administration', 'Marketing Spend']\n",
    "numeric_transformer = Pipeline(steps=[\n",
    "    ('scaler', StandardScaler())\n",
    "])\n",
    "\n",
    "preprocessor = ColumnTransformer(\n",
    "    transformers=[\n",
    "        ('num', numeric_transformer, numeric_features)\n",
    "    ])\n",
    "\n",
    "# Menggabungkan preprocessing dengan model\n",
    "pipeline = Pipeline(steps=[('preprocessor', preprocessor)])\n",
    "\n",
    "# Transformasi data\n",
    "df_scaled = pipeline.fit_transform(df_encoded)\n",
    "\n",
    "# Menggabungkan hasil transformasi dengan kolom target (Profit)\n",
    "df_scaled = pd.DataFrame(df_scaled, columns=numeric_features)\n",
    "df_scaled['State'] = df_encoded['State_Florida']  # Ambil kolom State Florida sebagai contoh\n",
    "df_scaled['Profit'] = df['Profit']  # Kolom target\n",
    "\n",
    "print(df_scaled)"
   ]
  }
 ],
 "metadata": {
  "kernelspec": {
   "display_name": "Python 3 (ipykernel)",
   "language": "python",
   "name": "python3"
  },
  "language_info": {
   "codemirror_mode": {
    "name": "ipython",
    "version": 3
   },
   "file_extension": ".py",
   "mimetype": "text/x-python",
   "name": "python",
   "nbconvert_exporter": "python",
   "pygments_lexer": "ipython3",
   "version": "3.11.7"
  }
 },
 "nbformat": 4,
 "nbformat_minor": 5
}
